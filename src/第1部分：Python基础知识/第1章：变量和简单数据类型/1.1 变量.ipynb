{
 "cells": [
  {
   "cell_type": "code",
   "execution_count": null,
   "metadata": {},
   "outputs": [],
   "source": [
    "# python 中有两种注释方法\n",
    "\n",
    "# 第一种：用 # 作为单行注释， # 作为开头，符号后的这一行内容都不会运行\n",
    "\n",
    "\"\"\"\n",
    "第二种：多行注释\n",
    "用六个引号包裹住要被注释的内容\n",
    "开始三个，结束三个\n",
    "夹在六个引号之间的多行内容都不会被运行\n",
    "\"\"\""
   ]
  },
  {
   "cell_type": "code",
   "execution_count": 1,
   "metadata": {},
   "outputs": [
    {
     "name": "stdout",
     "output_type": "stream",
     "text": [
      "Hello Python world!\n"
     ]
    }
   ],
   "source": [
    "# 变量赋值用 = 号\n",
    "# 可以理解为把右边的值赋给左边的变量名称\n",
    "\n",
    "# message 为变量的名称\n",
    "# \"Hello Python world\" 即为变量的值\n",
    "message = \"Hello Python world!\"\n",
    "\n",
    "# 可以用print()函数把变量打印出来\n",
    "print(message)"
   ]
  },
  {
   "cell_type": "code",
   "execution_count": 3,
   "metadata": {},
   "outputs": [
    {
     "name": "stdout",
     "output_type": "stream",
     "text": [
      "修改前的值： Hello Python world\n",
      "修改后的值: Hello Python Course world\n"
     ]
    }
   ],
   "source": [
    "message = \"Hello Python world\"\n",
    "print(\"修改前的值：\", message)\n",
    "\n",
    "# 可以通过改变右边的值，来修改变量的值\n",
    "message = \"Hello Python Course world\"\n",
    "print(\"修改后的值:\", message)"
   ]
  },
  {
   "cell_type": "code",
   "execution_count": 4,
   "metadata": {},
   "outputs": [
    {
     "ename": "NameError",
     "evalue": "name 'mesage' is not defined",
     "output_type": "error",
     "traceback": [
      "\u001b[31m---------------------------------------------------------------------------\u001b[39m",
      "\u001b[31mNameError\u001b[39m                                 Traceback (most recent call last)",
      "\u001b[36mCell\u001b[39m\u001b[36m \u001b[39m\u001b[32mIn[4]\u001b[39m\u001b[32m, line 3\u001b[39m\n\u001b[32m      1\u001b[39m message = \u001b[33m\"\u001b[39m\u001b[33mHello Python Crash Course reader\u001b[39m\u001b[33m\"\u001b[39m\n\u001b[32m      2\u001b[39m \u001b[38;5;66;03m# 如果print()这一步不慎打错了变量名称，则会产生报错\u001b[39;00m\n\u001b[32m----> \u001b[39m\u001b[32m3\u001b[39m \u001b[38;5;28mprint\u001b[39m(\u001b[43mmesage\u001b[49m)\n",
      "\u001b[31mNameError\u001b[39m: name 'mesage' is not defined"
     ]
    }
   ],
   "source": [
    "message = \"Hello Python Crash Course reader\"\n",
    "# 如果print()这一步不慎打错了变量名称，则会产生报错\n",
    "print(mesage)"
   ]
  },
  {
   "cell_type": "code",
   "execution_count": 2,
   "metadata": {},
   "outputs": [
    {
     "name": "stdout",
     "output_type": "stream",
     "text": [
      "mesage的值为： Hello Python world\n"
     ]
    }
   ],
   "source": [
    "# 然而，如果两步都出错，负负得正反而能打印出具体的值\n",
    "# 尽管在人类读起来是一种错误，然而计算机却能正确地理解\n",
    "mesage = \"Hello Python world\"\n",
    "print(\"mesage的值为：\", mesage)"
   ]
  }
 ],
 "metadata": {
  "kernelspec": {
   "display_name": ".venv",
   "language": "python",
   "name": "python3"
  },
  "language_info": {
   "codemirror_mode": {
    "name": "ipython",
    "version": 3
   },
   "file_extension": ".py",
   "mimetype": "text/x-python",
   "name": "python",
   "nbconvert_exporter": "python",
   "pygments_lexer": "ipython3",
   "version": "3.12.10"
  }
 },
 "nbformat": 4,
 "nbformat_minor": 2
}
