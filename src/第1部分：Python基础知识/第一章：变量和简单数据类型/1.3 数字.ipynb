{
 "cells": [
  {
   "cell_type": "markdown",
   "metadata": {},
   "source": [
    "## 数字"
   ]
  },
  {
   "cell_type": "markdown",
   "metadata": {},
   "source": [
    "### 整数"
   ]
  },
  {
   "cell_type": "code",
   "execution_count": 2,
   "metadata": {},
   "outputs": [
    {
     "name": "stdout",
     "output_type": "stream",
     "text": [
      "2 0 1 1.0\n"
     ]
    }
   ],
   "source": [
    "# 在python中可以直接对整数进行 加减乘除 运算\n",
    "print(1+1, 1-1, 1*1, 1/1)"
   ]
  },
  {
   "cell_type": "code",
   "execution_count": 3,
   "metadata": {},
   "outputs": [
    {
     "name": "stdout",
     "output_type": "stream",
     "text": [
      "5 -1 6 0.6666666666666666\n"
     ]
    }
   ],
   "source": [
    "# 也可以把运算后的值赋给变量，然后再直接打印出变量的值\n",
    "a = 2 + 3\n",
    "b = 2 - 3\n",
    "c = 2 * 3\n",
    "d = 2 / 3\n",
    "\n",
    "print(a, b, c, d)"
   ]
  },
  {
   "cell_type": "code",
   "execution_count": 4,
   "metadata": {},
   "outputs": [
    {
     "name": "stdout",
     "output_type": "stream",
     "text": [
      "1024\n"
     ]
    }
   ],
   "source": [
    "# 乘方运算：用连续的两个乘号**\n",
    "print(2**10)"
   ]
  },
  {
   "cell_type": "code",
   "execution_count": 5,
   "metadata": {},
   "outputs": [
    {
     "name": "stdout",
     "output_type": "stream",
     "text": [
      "8.5\n"
     ]
    }
   ],
   "source": [
    "# 也可以进行四则混合运算\n",
    "print(1+2*4-2/4)"
   ]
  },
  {
   "cell_type": "markdown",
   "metadata": {},
   "source": [
    "### 浮点数"
   ]
  },
  {
   "cell_type": "code",
   "execution_count": 6,
   "metadata": {},
   "outputs": [
    {
     "name": "stdout",
     "output_type": "stream",
     "text": [
      "0.2 0.0 1.0 2.0\n"
     ]
    }
   ],
   "source": [
    "# 浮点数可以简单理解为：带小数点的数\n",
    "print(0.1 + 0.1, 0.1 - 0.1, 0.5 * 2, 0.5 / 0.25)"
   ]
  },
  {
   "cell_type": "code",
   "execution_count": 10,
   "metadata": {},
   "outputs": [
    {
     "name": "stdout",
     "output_type": "stream",
     "text": [
      "浮点数精确到后1位的值：0.3\n",
      "浮点数精确到后40位的值：0.3000000000000000444089209850062616169453\n",
      "3\n"
     ]
    }
   ],
   "source": [
    "# 浮点数（float）是计算机中表示实数的一种方式，小数点位置是“浮动”的，即可表示非常大或非常小的数\n",
    "# 它不同于“定点小数”，后者的小数点位置是固定的\n",
    "# 注意：浮点数是近似表示，可能存在精度误差\n",
    "num = 0.1 + 0.2\n",
    "print(f\"浮点数精确到后1位的值：{num:.1f}\")\n",
    "print(f\"浮点数精确到后40位的值：{num:.40f}\")\n",
    "\n",
    "# 而整数计算\n",
    "num = 1 + 2\n",
    "print(f\"{num}\")\n"
   ]
  }
 ],
 "metadata": {
  "kernelspec": {
   "display_name": ".venv",
   "language": "python",
   "name": "python3"
  },
  "language_info": {
   "codemirror_mode": {
    "name": "ipython",
    "version": 3
   },
   "file_extension": ".py",
   "mimetype": "text/x-python",
   "name": "python",
   "nbconvert_exporter": "python",
   "pygments_lexer": "ipython3",
   "version": "3.12.10"
  }
 },
 "nbformat": 4,
 "nbformat_minor": 2
}
