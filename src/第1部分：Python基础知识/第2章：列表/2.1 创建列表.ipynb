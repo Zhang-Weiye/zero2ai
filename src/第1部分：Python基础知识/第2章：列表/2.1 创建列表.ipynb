{
 "cells": [
  {
   "cell_type": "code",
   "execution_count": 1,
   "metadata": {},
   "outputs": [
    {
     "name": "stdout",
     "output_type": "stream",
     "text": [
      "['trek', 'cannondale', 'redline', 'specialized']\n"
     ]
    }
   ],
   "source": [
    "# 列表是由一系列按特定顺序排列的元素组成，这些元素可以说数字、字符等\n",
    "# 在python中，用[]来表示列表，并用逗号来分割其中的元素\n",
    "bicycles = [\"trek\", \"cannondale\", \"redline\", \"specialized\"]\n",
    "print(bicycles)"
   ]
  },
  {
   "cell_type": "code",
   "execution_count": 3,
   "metadata": {},
   "outputs": [
    {
     "name": "stdout",
     "output_type": "stream",
     "text": [
      "trek\n",
      "cannodale\n",
      "redline\n",
      "specialized\n"
     ]
    }
   ],
   "source": [
    "# 访问列表元素可以用下标索引的方式\n",
    "# 例如访问列表list中的第一个元素，可以用list[0]\n",
    "# 注意，列表的第一个元素是0索引，以后依次类推，例如第二个元素list[1], 第三个元素list[2]\n",
    "bicycles = ['trek', 'cannodale', 'redline', 'specialized']\n",
    "print(bicycles[0])\n",
    "print(bicycles[1])\n",
    "print(bicycles[2])\n",
    "print(bicycles[3])"
   ]
  },
  {
   "cell_type": "code",
   "execution_count": 4,
   "metadata": {},
   "outputs": [
    {
     "ename": "IndexError",
     "evalue": "list index out of range",
     "output_type": "error",
     "traceback": [
      "\u001b[31m---------------------------------------------------------------------------\u001b[39m",
      "\u001b[31mIndexError\u001b[39m                                Traceback (most recent call last)",
      "\u001b[36mCell\u001b[39m\u001b[36m \u001b[39m\u001b[32mIn[4]\u001b[39m\u001b[32m, line 2\u001b[39m\n\u001b[32m      1\u001b[39m \u001b[38;5;66;03m# 如果索引的值超过了列表中元素个数-1\u001b[39;00m\n\u001b[32m----> \u001b[39m\u001b[32m2\u001b[39m \u001b[38;5;28mprint\u001b[39m(\u001b[43mbicycles\u001b[49m\u001b[43m[\u001b[49m\u001b[32;43m5\u001b[39;49m\u001b[43m]\u001b[49m) \u001b[38;5;66;03m# 例如bicycles里一共有4个元素，元素个数-1=3，5>3\u001b[39;00m\n",
      "\u001b[31mIndexError\u001b[39m: list index out of range"
     ]
    }
   ],
   "source": [
    "# 如果索引的值超过了列表中元素个数-1,会产生报错\n",
    "print(bicycles[5]) # 例如bicycles里一共有4个元素，元素个数-1=3，5>3\n"
   ]
  },
  {
   "cell_type": "code",
   "execution_count": 5,
   "metadata": {},
   "outputs": [
    {
     "name": "stdout",
     "output_type": "stream",
     "text": [
      "specialized\n",
      "redline\n",
      "cannodale\n"
     ]
    }
   ],
   "source": [
    "# 倒序访问，如果要访问最后一个元素，用索引-1\n",
    "# 依次类推，倒数第二个元素索引是-2，倒数第三个是-3......\n",
    "print(bicycles[-1])\n",
    "print(bicycles[-2])\n",
    "print(bicycles[-3])"
   ]
  },
  {
   "cell_type": "code",
   "execution_count": 7,
   "metadata": {},
   "outputs": [
    {
     "name": "stdout",
     "output_type": "stream",
     "text": [
      "My first bicycle was a Trek.\n"
     ]
    }
   ],
   "source": [
    "# 如果要使用列表中的元素，直接访问其索引即可\n",
    "message = \"My first bicycle was a \" + bicycles[0].title() + \".\"\n",
    "print(message)"
   ]
  }
 ],
 "metadata": {
  "kernelspec": {
   "display_name": ".venv",
   "language": "python",
   "name": "python3"
  },
  "language_info": {
   "codemirror_mode": {
    "name": "ipython",
    "version": 3
   },
   "file_extension": ".py",
   "mimetype": "text/x-python",
   "name": "python",
   "nbconvert_exporter": "python",
   "pygments_lexer": "ipython3",
   "version": "3.12.10"
  }
 },
 "nbformat": 4,
 "nbformat_minor": 2
}
