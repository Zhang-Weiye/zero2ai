{
 "cells": [
  {
   "cell_type": "code",
   "execution_count": 1,
   "metadata": {},
   "outputs": [
    {
     "name": "stdout",
     "output_type": "stream",
     "text": [
      "['bwm', 'audi', 'toyota', 'sabaru']\n",
      "['audi', 'bwm', 'sabaru', 'toyota']\n"
     ]
    }
   ],
   "source": [
    "# 利用sort()方法进行永久排序，按首字母顺序\n",
    "cars = ['bwm', 'audi', 'toyota', 'sabaru']\n",
    "print(cars)\n",
    "\n",
    "cars.sort()\n",
    "print(cars)"
   ]
  },
  {
   "cell_type": "code",
   "execution_count": 2,
   "metadata": {},
   "outputs": [
    {
     "name": "stdout",
     "output_type": "stream",
     "text": [
      "['audi', 'bwm', 'sabaru', 'toyota']\n",
      "['toyota', 'sabaru', 'bwm', 'audi']\n"
     ]
    }
   ],
   "source": [
    "# 若要按首字母相反顺序排序，需要向sort()传入参数 reverse = True\n",
    "print(cars)\n",
    "cars.sort(reverse=True)\n",
    "print(cars)"
   ]
  },
  {
   "cell_type": "code",
   "execution_count": null,
   "metadata": {},
   "outputs": [],
   "source": [
    "# 使用函数sorted()对列表进行排序\n"
   ]
  }
 ],
 "metadata": {
  "kernelspec": {
   "display_name": ".venv",
   "language": "python",
   "name": "python3"
  },
  "language_info": {
   "codemirror_mode": {
    "name": "ipython",
    "version": 3
   },
   "file_extension": ".py",
   "mimetype": "text/x-python",
   "name": "python",
   "nbconvert_exporter": "python",
   "pygments_lexer": "ipython3",
   "version": "3.12.10"
  }
 },
 "nbformat": 4,
 "nbformat_minor": 2
}
